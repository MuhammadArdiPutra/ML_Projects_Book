{
 "cells": [
  {
   "cell_type": "code",
   "execution_count": 1,
   "metadata": {
    "_cell_guid": "b1076dfc-b9ad-4769-8c92-a6c4dae69d19",
    "_uuid": "8f2839f25d086af736a60e9eeb907d3b93b6e0e5",
    "execution": {
     "iopub.execute_input": "2020-12-05T14:27:34.653951Z",
     "iopub.status.busy": "2020-12-05T14:27:34.653187Z",
     "iopub.status.idle": "2020-12-05T14:27:41.939939Z",
     "shell.execute_reply": "2020-12-05T14:27:41.938762Z"
    },
    "papermill": {
     "duration": 7.31954,
     "end_time": "2020-12-05T14:27:41.940074",
     "exception": false,
     "start_time": "2020-12-05T14:27:34.620534",
     "status": "completed"
    },
    "tags": []
   },
   "outputs": [],
   "source": [
    "import os\n",
    "import re\n",
    "import numpy as np\n",
    "import tensorflow as tf\n",
    "import matplotlib.pyplot as plt\n",
    "import seaborn as sns; sns.set()\n",
    "from tqdm import tqdm\n",
    "from nltk.tokenize import word_tokenize\n",
    "from sklearn.preprocessing import OneHotEncoder\n",
    "from sklearn.model_selection import train_test_split\n",
    "from keras.preprocessing import sequence\n",
    "from keras.preprocessing.text import Tokenizer\n",
    "from keras.models import Sequential\n",
    "from keras.layers import Dense, LSTM, Dropout\n",
    "from keras.layers.embeddings import Embedding"
   ]
  },
  {
   "cell_type": "markdown",
   "metadata": {
    "papermill": {
     "duration": 0.023348,
     "end_time": "2020-12-05T14:27:41.987810",
     "exception": false,
     "start_time": "2020-12-05T14:27:41.964462",
     "status": "completed"
    },
    "tags": []
   },
   "source": [
    "# Loading dataset"
   ]
  },
  {
   "cell_type": "code",
   "execution_count": 2,
   "metadata": {
    "_cell_guid": "79c7e3d0-c299-4dcb-8224-4455121ee9b0",
    "_uuid": "d629ff2d2480ee46fbb7e2d37f6b5fab8052498a",
    "execution": {
     "iopub.execute_input": "2020-12-05T14:27:42.047123Z",
     "iopub.status.busy": "2020-12-05T14:27:42.046384Z",
     "iopub.status.idle": "2020-12-05T14:28:05.705145Z",
     "shell.execute_reply": "2020-12-05T14:28:05.704255Z"
    },
    "papermill": {
     "duration": 23.694163,
     "end_time": "2020-12-05T14:28:05.705284",
     "exception": false,
     "start_time": "2020-12-05T14:27:42.011121",
     "status": "completed"
    },
    "tags": []
   },
   "outputs": [],
   "source": [
    "# Jangan lupa garis miring di akhir directory\n",
    "def read_files(path):\n",
    "    file_contents = list()\n",
    "    filenames = os.listdir(path)\n",
    "    \n",
    "    for i in range(len(filenames)):\n",
    "        with open(path+filenames[i], errors='ignore') as f:\n",
    "            file_contents.append(f.read())\n",
    "    \n",
    "    return file_contents\n",
    "\n",
    "# Jangan lupa garis miring di akhir directory\n",
    "class_0 = read_files('../input/20-news-dataset/20news-18828/comp.graphics/')\n",
    "class_1 = read_files('../input/20-news-dataset/20news-18828/rec.motorcycles/')\n",
    "class_2 = read_files('../input/20-news-dataset/20news-18828/sci.med/')\n",
    "class_3 = read_files('../input/20-news-dataset/20news-18828/talk.politics.misc/')"
   ]
  },
  {
   "cell_type": "code",
   "execution_count": 3,
   "metadata": {
    "execution": {
     "iopub.execute_input": "2020-12-05T14:28:05.758903Z",
     "iopub.status.busy": "2020-12-05T14:28:05.757988Z",
     "iopub.status.idle": "2020-12-05T14:28:05.761535Z",
     "shell.execute_reply": "2020-12-05T14:28:05.762041Z"
    },
    "papermill": {
     "duration": 0.033013,
     "end_time": "2020-12-05T14:28:05.762174",
     "exception": false,
     "start_time": "2020-12-05T14:28:05.729161",
     "status": "completed"
    },
    "tags": []
   },
   "outputs": [
    {
     "data": {
      "text/plain": [
       "'From: cesws@cc.newcastle.edu.au\\nSubject: patches for SUNGKS4.1 ?\\n\\n\\n\\n\\nDue to a number of bugs in GKS4.1 under SUNOS 4.1.3, I installed\\npatches 100533-15 and 100755-01. Patch 100533-15 appears to\\nwork fine and has fixed a number of problems. Patch 100755-01,\\nhowever, which is required to fix a number of other annoying\\nbugs, breaks with our applications.\\n\\nIs there a more recent revision of patch 10075?\\n\\nAny other ideas?\\n\\nScott Sloan                      email   cesws@cc.newcastle.edu.au\\nUniversity of Newcastle          fax     +61 49 216991\\nNSW\\nAustralia\\n'"
      ]
     },
     "execution_count": 3,
     "metadata": {},
     "output_type": "execute_result"
    }
   ],
   "source": [
    "class_0[0]"
   ]
  },
  {
   "cell_type": "markdown",
   "metadata": {
    "papermill": {
     "duration": 0.024368,
     "end_time": "2020-12-05T14:28:05.811420",
     "exception": false,
     "start_time": "2020-12-05T14:28:05.787052",
     "status": "completed"
    },
    "tags": []
   },
   "source": [
    "# Semua text dari tiap class dimasukkan jadi satu array"
   ]
  },
  {
   "cell_type": "code",
   "execution_count": 4,
   "metadata": {
    "execution": {
     "iopub.execute_input": "2020-12-05T14:28:05.865569Z",
     "iopub.status.busy": "2020-12-05T14:28:05.864730Z",
     "iopub.status.idle": "2020-12-05T14:28:05.871467Z",
     "shell.execute_reply": "2020-12-05T14:28:05.870810Z"
    },
    "papermill": {
     "duration": 0.036321,
     "end_time": "2020-12-05T14:28:05.871585",
     "exception": false,
     "start_time": "2020-12-05T14:28:05.835264",
     "status": "completed"
    },
    "tags": []
   },
   "outputs": [
    {
     "name": "stdout",
     "output_type": "stream",
     "text": [
      "Jumlah artikel di class_0: 973\n",
      "Jumlah artikel di class_1: 994\n",
      "Jumlah artikel di class_2: 990\n",
      "Jumlah artikel di class_3: 775\n"
     ]
    }
   ],
   "source": [
    "print('Jumlah artikel di class_0:', len(class_0))\n",
    "print('Jumlah artikel di class_1:', len(class_1))\n",
    "print('Jumlah artikel di class_2:', len(class_2))\n",
    "print('Jumlah artikel di class_3:', len(class_3))"
   ]
  },
  {
   "cell_type": "code",
   "execution_count": 5,
   "metadata": {
    "execution": {
     "iopub.execute_input": "2020-12-05T14:28:06.150456Z",
     "iopub.status.busy": "2020-12-05T14:28:06.149331Z",
     "iopub.status.idle": "2020-12-05T14:28:07.816589Z",
     "shell.execute_reply": "2020-12-05T14:28:07.817348Z"
    },
    "papermill": {
     "duration": 1.920861,
     "end_time": "2020-12-05T14:28:07.817489",
     "exception": false,
     "start_time": "2020-12-05T14:28:05.896628",
     "status": "completed"
    },
    "tags": []
   },
   "outputs": [
    {
     "name": "stdout",
     "output_type": "stream",
     "text": [
      "Jumlah semua artikel: 3732\n"
     ]
    }
   ],
   "source": [
    "all_texts = np.append(class_0, class_1)\n",
    "all_texts = np.append(all_texts, class_2)\n",
    "all_texts = np.append(all_texts, class_3)\n",
    "\n",
    "print('Jumlah semua artikel:', len(all_texts))"
   ]
  },
  {
   "cell_type": "markdown",
   "metadata": {
    "papermill": {
     "duration": 0.024516,
     "end_time": "2020-12-05T14:28:07.867107",
     "exception": false,
     "start_time": "2020-12-05T14:28:07.842591",
     "status": "completed"
    },
    "tags": []
   },
   "source": [
    "# Text preprocessing 1: Buat fungsi untuk membersihkan text"
   ]
  },
  {
   "cell_type": "code",
   "execution_count": 6,
   "metadata": {
    "execution": {
     "iopub.execute_input": "2020-12-05T14:28:07.925172Z",
     "iopub.status.busy": "2020-12-05T14:28:07.924411Z",
     "iopub.status.idle": "2020-12-05T14:28:07.926919Z",
     "shell.execute_reply": "2020-12-05T14:28:07.927484Z"
    },
    "papermill": {
     "duration": 0.03562,
     "end_time": "2020-12-05T14:28:07.927604",
     "exception": false,
     "start_time": "2020-12-05T14:28:07.891984",
     "status": "completed"
    },
    "tags": []
   },
   "outputs": [],
   "source": [
    "def clean(text):\n",
    "    # Lowering letters\n",
    "    text = text.lower()\n",
    "    # Removing html tags\n",
    "    text = re.sub('<[^>]*>', '', text)\n",
    "    # Removing emails\n",
    "    text = re.sub('\\S*@\\S*\\s?', '', text)\n",
    "    # Removing urls\n",
    "    text = re.sub('https?://[A-Za-z0-9]','',text)\n",
    "    # Removing numbers\n",
    "    text = re.sub('[^a-zA-Z]',' ',text)\n",
    "    # Tokenization\n",
    "    word_tokens = word_tokenize(text)    \n",
    "    # Joining words\n",
    "    text = (' '.join(word_tokens))\n",
    "    return text"
   ]
  },
  {
   "cell_type": "code",
   "execution_count": 7,
   "metadata": {
    "execution": {
     "iopub.execute_input": "2020-12-05T14:28:07.988852Z",
     "iopub.status.busy": "2020-12-05T14:28:07.987646Z",
     "iopub.status.idle": "2020-12-05T14:28:20.170079Z",
     "shell.execute_reply": "2020-12-05T14:28:20.170825Z"
    },
    "papermill": {
     "duration": 12.218708,
     "end_time": "2020-12-05T14:28:20.171011",
     "exception": false,
     "start_time": "2020-12-05T14:28:07.952303",
     "status": "completed"
    },
    "tags": []
   },
   "outputs": [
    {
     "name": "stderr",
     "output_type": "stream",
     "text": [
      "100%|██████████| 3732/3732 [00:11<00:00, 318.82it/s]\n"
     ]
    }
   ],
   "source": [
    "all_cleaned_texts = np.array([clean(text) for text in tqdm(all_texts)])"
   ]
  },
  {
   "cell_type": "code",
   "execution_count": 8,
   "metadata": {
    "execution": {
     "iopub.execute_input": "2020-12-05T14:28:20.294842Z",
     "iopub.status.busy": "2020-12-05T14:28:20.293828Z",
     "iopub.status.idle": "2020-12-05T14:28:20.298776Z",
     "shell.execute_reply": "2020-12-05T14:28:20.298271Z"
    },
    "papermill": {
     "duration": 0.068032,
     "end_time": "2020-12-05T14:28:20.298871",
     "exception": false,
     "start_time": "2020-12-05T14:28:20.230839",
     "status": "completed"
    },
    "tags": []
   },
   "outputs": [
    {
     "data": {
      "text/plain": [
       "'from subject patches for sungks due to a number of bugs in gks under sunos i installed patches and patch appears to work fine and has fixed a number of problems patch however which is required to fix a number of other annoying bugs breaks with our applications is there a more recent revision of patch any other ideas scott sloan email university of newcastle fax nsw australia'"
      ]
     },
     "execution_count": 8,
     "metadata": {},
     "output_type": "execute_result"
    }
   ],
   "source": [
    "all_cleaned_texts[0]"
   ]
  },
  {
   "cell_type": "markdown",
   "metadata": {
    "papermill": {
     "duration": 0.059237,
     "end_time": "2020-12-05T14:28:20.417507",
     "exception": false,
     "start_time": "2020-12-05T14:28:20.358270",
     "status": "completed"
    },
    "tags": []
   },
   "source": [
    "# Text preprocessing 2: Buat word-to-number mapping"
   ]
  },
  {
   "cell_type": "code",
   "execution_count": 9,
   "metadata": {
    "execution": {
     "iopub.execute_input": "2020-12-05T14:28:20.574148Z",
     "iopub.status.busy": "2020-12-05T14:28:20.548051Z",
     "iopub.status.idle": "2020-12-05T14:28:21.835201Z",
     "shell.execute_reply": "2020-12-05T14:28:21.835933Z"
    },
    "papermill": {
     "duration": 1.3598,
     "end_time": "2020-12-05T14:28:21.836100",
     "exception": false,
     "start_time": "2020-12-05T14:28:20.476300",
     "status": "completed"
    },
    "tags": []
   },
   "outputs": [
    {
     "data": {
      "text/plain": [
       "{'the': 1,\n",
       " 'to': 2,\n",
       " 'a': 3,\n",
       " 'of': 4,\n",
       " 'and': 5,\n",
       " 'i': 6,\n",
       " 'in': 7,\n",
       " 'is': 8,\n",
       " 'that': 9,\n",
       " 'it': 10,\n",
       " 'for': 11,\n",
       " 'you': 12,\n",
       " 'from': 13,\n",
       " 'on': 14,\n",
       " 's': 15,\n",
       " 'this': 16,\n",
       " 'be': 17,\n",
       " 'have': 18,\n",
       " 'are': 19,\n",
       " 'not': 20,\n",
       " 'with': 21,\n",
       " 't': 22,\n",
       " 'or': 23,\n",
       " 'as': 24,\n",
       " 'was': 25,\n",
       " 'if': 26,\n",
       " 'but': 27,\n",
       " 'can': 28,\n",
       " 'subject': 29,\n",
       " 're': 30,\n",
       " 'they': 31,\n",
       " 'my': 32,\n",
       " 'by': 33,\n",
       " 'at': 34,\n",
       " 'there': 35,\n",
       " 'what': 36,\n",
       " 'about': 37,\n",
       " 'an': 38,\n",
       " 'do': 39,\n",
       " 'we': 40,\n",
       " 'writes': 41,\n",
       " 'would': 42,\n",
       " 'all': 43,\n",
       " 'will': 44,\n",
       " 'article': 45,\n",
       " 'one': 46,\n",
       " 'has': 47,\n",
       " 'any': 48,\n",
       " 'your': 49,\n",
       " 'so': 50,\n",
       " 'some': 51,\n",
       " 'no': 52,\n",
       " 'me': 53,\n",
       " 'out': 54,\n",
       " 'don': 55,\n",
       " 'more': 56,\n",
       " 'he': 57,\n",
       " 'like': 58,\n",
       " 'who': 59,\n",
       " 'people': 60,\n",
       " 'which': 61,\n",
       " 'just': 62,\n",
       " 'm': 63,\n",
       " 'get': 64,\n",
       " 'up': 65,\n",
       " 'd': 66,\n",
       " 'other': 67,\n",
       " 'know': 68,\n",
       " 'their': 69,\n",
       " 'when': 70,\n",
       " 'than': 71,\n",
       " 'been': 72,\n",
       " 'had': 73,\n",
       " 'how': 74,\n",
       " 'also': 75,\n",
       " 'were': 76,\n",
       " 'think': 77,\n",
       " 'them': 78,\n",
       " 'only': 79,\n",
       " 'time': 80,\n",
       " 'use': 81,\n",
       " 'image': 82,\n",
       " 'new': 83,\n",
       " 'very': 84,\n",
       " 'does': 85,\n",
       " 'well': 86,\n",
       " 'should': 87,\n",
       " 'good': 88,\n",
       " 'these': 89,\n",
       " 'then': 90,\n",
       " 've': 91,\n",
       " 'now': 92,\n",
       " 'much': 93,\n",
       " 'q': 94,\n",
       " 'graphics': 95,\n",
       " 'e': 96,\n",
       " 'because': 97,\n",
       " 'could': 98,\n",
       " 'am': 99,\n",
       " 'his': 100,\n",
       " 'may': 101,\n",
       " 'x': 102,\n",
       " 'many': 103,\n",
       " 'make': 104,\n",
       " 'why': 105,\n",
       " 'most': 106,\n",
       " 'into': 107,\n",
       " 'even': 108,\n",
       " 'see': 109,\n",
       " 'way': 110,\n",
       " 'where': 111,\n",
       " 'c': 112,\n",
       " 'want': 113,\n",
       " 'such': 114,\n",
       " 'go': 115,\n",
       " 'two': 116,\n",
       " 'right': 117,\n",
       " 'anyone': 118,\n",
       " 'first': 119,\n",
       " 'going': 120,\n",
       " 'here': 121,\n",
       " 'need': 122,\n",
       " 'did': 123,\n",
       " 'those': 124,\n",
       " 'bike': 125,\n",
       " 'too': 126,\n",
       " 'o': 127,\n",
       " 'over': 128,\n",
       " 'jpeg': 129,\n",
       " 'she': 130,\n",
       " 'bit': 131,\n",
       " 'help': 132,\n",
       " 'back': 133,\n",
       " 'said': 134,\n",
       " 'after': 135,\n",
       " 'work': 136,\n",
       " 'information': 137,\n",
       " 'president': 138,\n",
       " 'll': 139,\n",
       " 'being': 140,\n",
       " 'something': 141,\n",
       " 'file': 142,\n",
       " 'off': 143,\n",
       " 'us': 144,\n",
       " 'same': 145,\n",
       " 'system': 146,\n",
       " 'say': 147,\n",
       " 'used': 148,\n",
       " 'our': 149,\n",
       " 'its': 150,\n",
       " 'take': 151,\n",
       " 'please': 152,\n",
       " 'health': 153,\n",
       " 'dod': 154,\n",
       " 'available': 155,\n",
       " 'program': 156,\n",
       " 'mail': 157,\n",
       " 'government': 158,\n",
       " 'mr': 159,\n",
       " 'number': 160,\n",
       " 'data': 161,\n",
       " 'really': 162,\n",
       " 'since': 163,\n",
       " 'find': 164,\n",
       " 'problem': 165,\n",
       " 'her': 166,\n",
       " 'p': 167,\n",
       " 'still': 168,\n",
       " 'point': 169,\n",
       " 'etc': 170,\n",
       " 'years': 171,\n",
       " 'got': 172,\n",
       " 'sure': 173,\n",
       " 'few': 174,\n",
       " 'software': 175,\n",
       " 'images': 176,\n",
       " 'down': 177,\n",
       " 'without': 178,\n",
       " 'might': 179,\n",
       " 'b': 180,\n",
       " 'question': 181,\n",
       " 'while': 182,\n",
       " 'university': 183,\n",
       " 'believe': 184,\n",
       " 'anything': 185,\n",
       " 'both': 186,\n",
       " 'made': 187,\n",
       " 'using': 188,\n",
       " 'thanks': 189,\n",
       " 'read': 190,\n",
       " 'last': 191,\n",
       " 'between': 192,\n",
       " 'before': 193,\n",
       " 'medical': 194,\n",
       " 'through': 195,\n",
       " 'day': 196,\n",
       " 'thing': 197,\n",
       " 'r': 198,\n",
       " 'edu': 199,\n",
       " 'state': 200,\n",
       " 'better': 201,\n",
       " 'free': 202,\n",
       " 'look': 203,\n",
       " 'files': 204,\n",
       " 'another': 205,\n",
       " 'case': 206,\n",
       " 'someone': 207,\n",
       " 'long': 208,\n",
       " 'never': 209,\n",
       " 'ftp': 210,\n",
       " 'little': 211,\n",
       " 'try': 212,\n",
       " 'computer': 213,\n",
       " 'lot': 214,\n",
       " 'david': 215,\n",
       " 'gif': 216,\n",
       " 'format': 217,\n",
       " 'things': 218,\n",
       " 'him': 219,\n",
       " 'color': 220,\n",
       " 'own': 221,\n",
       " 'u': 222,\n",
       " 'doesn': 223,\n",
       " 'part': 224,\n",
       " 'let': 225,\n",
       " 'group': 226,\n",
       " 'research': 227,\n",
       " 'high': 228,\n",
       " 'list': 229,\n",
       " 'package': 230,\n",
       " 'around': 231,\n",
       " 'enough': 232,\n",
       " 'under': 233,\n",
       " 'different': 234,\n",
       " 'post': 235,\n",
       " 'general': 236,\n",
       " 'year': 237,\n",
       " 'looking': 238,\n",
       " 'care': 239,\n",
       " 'stephanopoulos': 240,\n",
       " 'n': 241,\n",
       " 'line': 242,\n",
       " 'give': 243,\n",
       " 'fact': 244,\n",
       " 'least': 245,\n",
       " 'best': 246,\n",
       " 'put': 247,\n",
       " 'every': 248,\n",
       " 'support': 249,\n",
       " 'again': 250,\n",
       " 'version': 251,\n",
       " 'must': 252,\n",
       " 'probably': 253,\n",
       " 'tell': 254,\n",
       " 'seems': 255,\n",
       " 'real': 256,\n",
       " 'course': 257,\n",
       " 'done': 258,\n",
       " 'info': 259,\n",
       " 'v': 260,\n",
       " 'ms': 261,\n",
       " 'yes': 262,\n",
       " 'study': 263,\n",
       " 'else': 264,\n",
       " 'come': 265,\n",
       " 'public': 266,\n",
       " 'far': 267,\n",
       " 'world': 268,\n",
       " 'each': 269,\n",
       " 'having': 270,\n",
       " 'less': 271,\n",
       " 'actually': 272,\n",
       " 'steve': 273,\n",
       " 'states': 274,\n",
       " 'disease': 275,\n",
       " 'pub': 276,\n",
       " 'american': 277,\n",
       " 'didn': 278,\n",
       " 'based': 279,\n",
       " 'nothing': 280,\n",
       " 'keep': 281,\n",
       " 'k': 282,\n",
       " 'programs': 283,\n",
       " 'called': 284,\n",
       " 'news': 285,\n",
       " 'against': 286,\n",
       " 'says': 287,\n",
       " 'found': 288,\n",
       " 'national': 289,\n",
       " 'drugs': 290,\n",
       " 'send': 291,\n",
       " 'mean': 292,\n",
       " 'however': 293,\n",
       " 'money': 294,\n",
       " 'insurance': 295,\n",
       " 'though': 296,\n",
       " 'food': 297,\n",
       " 'j': 298,\n",
       " 'drug': 299,\n",
       " 'person': 300,\n",
       " 'getting': 301,\n",
       " 'problems': 302,\n",
       " 'full': 303,\n",
       " 'either': 304,\n",
       " 'children': 305,\n",
       " 'patients': 306,\n",
       " 'kind': 307,\n",
       " 'cancer': 308,\n",
       " 'next': 309,\n",
       " 'left': 310,\n",
       " 'msg': 311,\n",
       " 'possible': 312,\n",
       " 'great': 313,\n",
       " 'men': 314,\n",
       " 'quite': 315,\n",
       " 'old': 316,\n",
       " 'set': 317,\n",
       " 'end': 318,\n",
       " 'above': 319,\n",
       " 'display': 320,\n",
       " 'code': 321,\n",
       " 'run': 322,\n",
       " 'law': 323,\n",
       " 'cramer': 324,\n",
       " 'opinions': 325,\n",
       " 'non': 326,\n",
       " 'l': 327,\n",
       " 'large': 328,\n",
       " 'able': 329,\n",
       " 'already': 330,\n",
       " 'stuff': 331,\n",
       " 'rather': 332,\n",
       " 'email': 333,\n",
       " 'doing': 334,\n",
       " 'cause': 335,\n",
       " 'true': 336,\n",
       " 'systems': 337,\n",
       " 'name': 338,\n",
       " 'mark': 339,\n",
       " 'seen': 340,\n",
       " 'doctor': 341,\n",
       " 'heard': 342,\n",
       " 'w': 343,\n",
       " 'human': 344,\n",
       " 'whether': 345,\n",
       " 'wrote': 346,\n",
       " 'place': 347,\n",
       " 'always': 348,\n",
       " 'isn': 349,\n",
       " 'ride': 350,\n",
       " 'gay': 351,\n",
       " 'clinton': 352,\n",
       " 'thought': 353,\n",
       " 'side': 354,\n",
       " 'type': 355,\n",
       " 'effect': 356,\n",
       " 'yet': 357,\n",
       " 'michael': 358,\n",
       " 'myers': 359,\n",
       " 'z': 360,\n",
       " 'treatment': 361,\n",
       " 'john': 362,\n",
       " 'science': 363,\n",
       " 'april': 364,\n",
       " 'ever': 365,\n",
       " 'questions': 366,\n",
       " 'maybe': 367,\n",
       " 'others': 368,\n",
       " 'body': 369,\n",
       " 'call': 370,\n",
       " 'bad': 371,\n",
       " 'life': 372,\n",
       " 'order': 373,\n",
       " 'several': 374,\n",
       " 'bill': 375,\n",
       " 'white': 376,\n",
       " 'once': 377,\n",
       " 'address': 378,\n",
       " 'standard': 379,\n",
       " 'ago': 380,\n",
       " 'center': 381,\n",
       " 'quality': 382,\n",
       " 'trying': 383,\n",
       " 'h': 384,\n",
       " 'seem': 385,\n",
       " 'clayton': 386,\n",
       " 'internet': 387,\n",
       " 'evidence': 388,\n",
       " 'three': 389,\n",
       " 'pc': 390,\n",
       " 'times': 391,\n",
       " 'change': 392,\n",
       " 'fax': 393,\n",
       " 'small': 394,\n",
       " 'low': 395,\n",
       " 'area': 396,\n",
       " 'contact': 397,\n",
       " 'source': 398,\n",
       " 'important': 399,\n",
       " 'ask': 400,\n",
       " 'windows': 401,\n",
       " 'idea': 402,\n",
       " 'g': 403,\n",
       " 'bmw': 404,\n",
       " 'given': 405,\n",
       " 'power': 406,\n",
       " 'makes': 407,\n",
       " 'note': 408,\n",
       " 'hard': 409,\n",
       " 'control': 410,\n",
       " 'private': 411,\n",
       " 'big': 412,\n",
       " 'start': 413,\n",
       " 'example': 414,\n",
       " 'working': 415,\n",
       " 'means': 416,\n",
       " 'wrong': 417,\n",
       " 'book': 418,\n",
       " 'current': 419,\n",
       " 'sort': 420,\n",
       " 'perhaps': 421,\n",
       " 'f': 422,\n",
       " 'today': 423,\n",
       " 'reason': 424,\n",
       " 'medicine': 425,\n",
       " 'united': 426,\n",
       " 'often': 427,\n",
       " 'ed': 428,\n",
       " 'told': 429,\n",
       " 'pretty': 430,\n",
       " 'until': 431,\n",
       " 'house': 432,\n",
       " 'canada': 433,\n",
       " 'show': 434,\n",
       " 'riding': 435,\n",
       " 'ray': 436,\n",
       " 'test': 437,\n",
       " 'faq': 438,\n",
       " 'level': 439,\n",
       " 'check': 440,\n",
       " 'following': 441,\n",
       " 'during': 442,\n",
       " 'press': 443,\n",
       " 'per': 444,\n",
       " 'wanted': 445,\n",
       " 'months': 446,\n",
       " 'mac': 447,\n",
       " 'dr': 448,\n",
       " 'jobs': 449,\n",
       " 'feel': 450,\n",
       " 'away': 451,\n",
       " 'live': 452,\n",
       " 'net': 453,\n",
       " 'local': 454,\n",
       " 'country': 455,\n",
       " 'tax': 456,\n",
       " 'week': 457,\n",
       " 'related': 458,\n",
       " 'road': 459,\n",
       " 'second': 460,\n",
       " 'school': 461,\n",
       " 'making': 462,\n",
       " 'days': 463,\n",
       " 'video': 464,\n",
       " 'front': 465,\n",
       " 'advice': 466,\n",
       " 'interested': 467,\n",
       " 'taking': 468,\n",
       " 'aids': 469,\n",
       " 'water': 470,\n",
       " 'experience': 471,\n",
       " 'hand': 472,\n",
       " 'works': 473,\n",
       " 'couple': 474,\n",
       " 'effects': 475,\n",
       " 'gordon': 476,\n",
       " 'certainly': 477,\n",
       " 'issue': 478,\n",
       " 'provide': 479,\n",
       " 'rights': 480,\n",
       " 'robert': 481,\n",
       " 'child': 482,\n",
       " 'unless': 483,\n",
       " 'ca': 484,\n",
       " 'won': 485,\n",
       " 'face': 486,\n",
       " 'usually': 487,\n",
       " 'stop': 488,\n",
       " 'dog': 489,\n",
       " 'mind': 490,\n",
       " 'fast': 491,\n",
       " 'phone': 492,\n",
       " 'diet': 493,\n",
       " 'black': 494,\n",
       " 'analysis': 495,\n",
       " 'answer': 496,\n",
       " 'remember': 497,\n",
       " 'scientific': 498,\n",
       " 'processing': 499,\n",
       " 'simple': 500,\n",
       " 'original': 501,\n",
       " 'buy': 502,\n",
       " 'mine': 503,\n",
       " 'unix': 504,\n",
       " 'home': 505,\n",
       " 'bikes': 506,\n",
       " 'groups': 507,\n",
       " 'via': 508,\n",
       " 'cost': 509,\n",
       " 'include': 510,\n",
       " 'points': 511,\n",
       " 'candida': 512,\n",
       " 'y': 513,\n",
       " 'mike': 514,\n",
       " 'normal': 515,\n",
       " 'motorcycle': 516,\n",
       " 'within': 517,\n",
       " 'specific': 518,\n",
       " 'formats': 519,\n",
       " 'almost': 520,\n",
       " 'simply': 521,\n",
       " 'tried': 522,\n",
       " 'man': 523,\n",
       " 'hope': 524,\n",
       " 'studies': 525,\n",
       " 'common': 526,\n",
       " 'access': 527,\n",
       " 'war': 528,\n",
       " 'pain': 529,\n",
       " 'saying': 530,\n",
       " 'anyway': 531,\n",
       " 'pay': 532,\n",
       " 'hiv': 533,\n",
       " 'top': 534,\n",
       " 'whole': 535,\n",
       " 'women': 536,\n",
       " 'write': 537,\n",
       " 'th': 538,\n",
       " 'among': 539,\n",
       " 'library': 540,\n",
       " 'went': 541,\n",
       " 'hi': 542,\n",
       " 'view': 543,\n",
       " 'including': 544,\n",
       " 'sex': 545,\n",
       " 'form': 546,\n",
       " 'service': 547,\n",
       " 'agree': 548,\n",
       " 'difference': 549,\n",
       " 'due': 550,\n",
       " 'situation': 551,\n",
       " 'wouldn': 552,\n",
       " 'four': 553,\n",
       " 'laws': 554,\n",
       " 'sexual': 555,\n",
       " 'tiff': 556,\n",
       " 'size': 557,\n",
       " 'themselves': 558,\n",
       " 'soon': 559,\n",
       " 'result': 560,\n",
       " 'process': 561,\n",
       " 'understand': 562,\n",
       " 'needs': 563,\n",
       " 'police': 564,\n",
       " 'vitamin': 565,\n",
       " 'usa': 566,\n",
       " 'known': 567,\n",
       " 'anti': 568,\n",
       " 'sun': 569,\n",
       " 'likely': 570,\n",
       " 'head': 571,\n",
       " 'turn': 572,\n",
       " 'similar': 573,\n",
       " 'major': 574,\n",
       " 'yeast': 575,\n",
       " 'friend': 576,\n",
       " 'nice': 577,\n",
       " 'anybody': 578,\n",
       " 'oh': 579,\n",
       " 'comp': 580,\n",
       " 'department': 581,\n",
       " 'chris': 582,\n",
       " 'open': 583,\n",
       " 'guess': 584,\n",
       " 'talking': 585,\n",
       " 'although': 586,\n",
       " 'certain': 587,\n",
       " 'banks': 588,\n",
       " 'volume': 589,\n",
       " 'administration': 590,\n",
       " 'doctors': 591,\n",
       " 'office': 592,\n",
       " 'particular': 593,\n",
       " 'users': 594,\n",
       " 'inc': 595,\n",
       " 'results': 596,\n",
       " 'screen': 597,\n",
       " 'speed': 598,\n",
       " 'user': 599,\n",
       " 'machine': 600,\n",
       " 'matter': 601,\n",
       " 'force': 602,\n",
       " 'easy': 603,\n",
       " 'weight': 604,\n",
       " 'taken': 605,\n",
       " 'haven': 606,\n",
       " 'cases': 607,\n",
       " 'word': 608,\n",
       " 'political': 609,\n",
       " 'page': 610,\n",
       " 'drive': 611,\n",
       " 'sorry': 612,\n",
       " 'space': 613,\n",
       " 'started': 614,\n",
       " 'action': 615,\n",
       " 'federal': 616,\n",
       " 'convert': 617,\n",
       " 'short': 618,\n",
       " 'weeks': 619,\n",
       " 'together': 620,\n",
       " 'everything': 621,\n",
       " 'talk': 622,\n",
       " 'project': 623,\n",
       " 'asked': 624,\n",
       " 'young': 625,\n",
       " 'night': 626,\n",
       " 'needed': 627,\n",
       " 'involved': 628,\n",
       " 'reading': 629,\n",
       " 'further': 630,\n",
       " 'opinion': 631,\n",
       " 'patient': 632,\n",
       " 'advance': 633,\n",
       " 'learn': 634,\n",
       " 'plan': 635,\n",
       " 'message': 636,\n",
       " 'term': 637,\n",
       " 'paul': 638,\n",
       " 'homosexual': 639,\n",
       " 'pixel': 640,\n",
       " 'instead': 641,\n",
       " 'education': 642,\n",
       " 'took': 643,\n",
       " 'especially': 644,\n",
       " 'later': 645,\n",
       " 'interesting': 646,\n",
       " 'move': 647,\n",
       " 'single': 648,\n",
       " 'came': 649,\n",
       " 'congress': 650,\n",
       " 'dave': 651,\n",
       " 'sense': 652,\n",
       " 'sgi': 653,\n",
       " 'helmet': 654,\n",
       " 'various': 655,\n",
       " 'become': 656,\n",
       " 'blood': 657,\n",
       " 'amiga': 658,\n",
       " 'uunet': 659,\n",
       " 'site': 660,\n",
       " 'posted': 661,\n",
       " 'exactly': 662,\n",
       " 'sci': 663,\n",
       " 'fine': 664,\n",
       " 'everyone': 665,\n",
       " 'technology': 666,\n",
       " 'directory': 667,\n",
       " 'saw': 668,\n",
       " 'report': 669,\n",
       " 'hold': 670,\n",
       " 'currently': 671,\n",
       " 'community': 672,\n",
       " 'company': 673,\n",
       " 'car': 674,\n",
       " 'rate': 675,\n",
       " 'light': 676,\n",
       " 'correct': 677,\n",
       " 'past': 678,\n",
       " 'except': 679,\n",
       " 'newsgroup': 680,\n",
       " 'xv': 681,\n",
       " 'discussion': 682,\n",
       " 'amount': 683,\n",
       " 'whatever': 684,\n",
       " 'business': 685,\n",
       " 'infection': 686,\n",
       " 'consider': 687,\n",
       " 'behind': 688,\n",
       " 'ones': 689,\n",
       " 'along': 690,\n",
       " 'clinical': 691,\n",
       " 'dos': 692,\n",
       " 'sites': 693,\n",
       " 'society': 694,\n",
       " 'double': 695,\n",
       " 'fire': 696,\n",
       " 'symptoms': 697,\n",
       " 'ideas': 698,\n",
       " 'previous': 699,\n",
       " 'batf': 700,\n",
       " 'job': 701,\n",
       " 'objects': 702,\n",
       " 'considered': 703,\n",
       " 'red': 704,\n",
       " 'george': 705,\n",
       " 'archive': 706,\n",
       " 'decision': 707,\n",
       " 'washington': 708,\n",
       " 'interest': 709,\n",
       " 'comes': 710,\n",
       " 'ok': 711,\n",
       " 'numbers': 712,\n",
       " 'brain': 713,\n",
       " 'conference': 714,\n",
       " 'future': 715,\n",
       " 'percent': 716,\n",
       " 'section': 717,\n",
       " 'picture': 718,\n",
       " 'services': 719,\n",
       " 'written': 720,\n",
       " 'response': 721,\n",
       " 'god': 722,\n",
       " 'deal': 723,\n",
       " 'americans': 724,\n",
       " 'thank': 725,\n",
       " 'posting': 726,\n",
       " 'recently': 727,\n",
       " 'levels': 728,\n",
       " 'usenet': 729,\n",
       " 'richard': 730,\n",
       " 'words': 731,\n",
       " 'issues': 732,\n",
       " 'risk': 733,\n",
       " 'create': 734,\n",
       " 'tar': 735,\n",
       " 'street': 736,\n",
       " 'hardware': 737,\n",
       " 'colors': 738,\n",
       " 'serious': 739,\n",
       " 'model': 740,\n",
       " 'legal': 741,\n",
       " 'population': 742,\n",
       " 'price': 743,\n",
       " 'thinking': 744,\n",
       " 'viewer': 745,\n",
       " 'self': 746,\n",
       " 'yourself': 747,\n",
       " 'pictures': 748,\n",
       " 'hear': 749,\n",
       " 'position': 750,\n",
       " 'gun': 751,\n",
       " 'bits': 752,\n",
       " 'running': 753,\n",
       " 'lines': 754,\n",
       " 'obviously': 755,\n",
       " 'court': 756,\n",
       " 'object': 757,\n",
       " 'sometimes': 758,\n",
       " 'lower': 759,\n",
       " 'st': 760,\n",
       " 'cut': 761,\n",
       " 'basic': 762,\n",
       " 'suggest': 763,\n",
       " 'happen': 764,\n",
       " 'looks': 765,\n",
       " 'search': 766,\n",
       " 'theory': 767,\n",
       " 'personal': 768,\n",
       " 'million': 769,\n",
       " 'itself': 770,\n",
       " 'continue': 771,\n",
       " 'increase': 772,\n",
       " 'appreciated': 773,\n",
       " 'goes': 774,\n",
       " 'shaft': 775,\n",
       " 'waco': 776,\n",
       " 'fbi': 777,\n",
       " 'tools': 778,\n",
       " 'ibm': 779,\n",
       " 'changes': 780,\n",
       " 'happened': 781,\n",
       " 'useful': 782,\n",
       " 'limited': 783,\n",
       " 'includes': 784,\n",
       " 'natural': 785,\n",
       " 'york': 786,\n",
       " 'gas': 787,\n",
       " 'homosexuals': 788,\n",
       " 'love': 789,\n",
       " 'statement': 790,\n",
       " 'approach': 791,\n",
       " 'death': 792,\n",
       " 'takes': 793,\n",
       " 'difficult': 794,\n",
       " 'aren': 795,\n",
       " 'half': 796,\n",
       " 'expect': 797,\n",
       " 'charles': 798,\n",
       " 'method': 799,\n",
       " 'sources': 800,\n",
       " 'effective': 801,\n",
       " 'california': 802,\n",
       " 'prevent': 803,\n",
       " 'members': 804,\n",
       " 'myself': 805,\n",
       " 'conversion': 806,\n",
       " 'party': 807,\n",
       " 'knowledge': 808,\n",
       " 'answers': 809,\n",
       " 'special': 810,\n",
       " 'institute': 811,\n",
       " 'heart': 812,\n",
       " 'crime': 813,\n",
       " 'box': 814,\n",
       " 'animation': 815,\n",
       " 'coming': 816,\n",
       " 'green': 817,\n",
       " 'stand': 818,\n",
       " 'total': 819,\n",
       " 'eye': 820,\n",
       " 'rider': 821,\n",
       " 'motorcycles': 822,\n",
       " 'mode': 823,\n",
       " 'guy': 824,\n",
       " 'thus': 825,\n",
       " 'bob': 826,\n",
       " 'wants': 827,\n",
       " 'argument': 828,\n",
       " 'responsible': 829,\n",
       " 'south': 830,\n",
       " 'trial': 831,\n",
       " 'koresh': 832,\n",
       " 'text': 833,\n",
       " 'ways': 834,\n",
       " 'books': 835,\n",
       " 'sound': 836,\n",
       " 'directly': 837,\n",
       " 'history': 838,\n",
       " 'card': 839,\n",
       " 'month': 840,\n",
       " 'areas': 841,\n",
       " 'chain': 842,\n",
       " 'ground': 843,\n",
       " 'ama': 844,\n",
       " 'claim': 845,\n",
       " 'alt': 846,\n",
       " 'percentage': 847,\n",
       " 'chronic': 848,\n",
       " 'polygon': 849,\n",
       " 'frame': 850,\n",
       " 'fairly': 851,\n",
       " 'avoid': 852,\n",
       " 'syndrome': 853,\n",
       " 'hell': 854,\n",
       " 'zip': 855,\n",
       " 'otherwise': 856,\n",
       " 'runs': 857,\n",
       " 'table': 858,\n",
       " 'driver': 859,\n",
       " 'product': 860,\n",
       " 'algorithm': 861,\n",
       " 'surface': 862,\n",
       " 'upon': 863,\n",
       " 'eat': 864,\n",
       " 'choice': 865,\n",
       " 'america': 866,\n",
       " 'media': 867,\n",
       " 'costs': 868,\n",
       " 'figure': 869,\n",
       " 'summer': 870,\n",
       " 'class': 871,\n",
       " 'secretary': 872,\n",
       " 'act': 873,\n",
       " 'military': 874,\n",
       " 'honda': 875,\n",
       " 'basis': 876,\n",
       " 'early': 877,\n",
       " 'details': 878,\n",
       " 'products': 879,\n",
       " 'minutes': 880,\n",
       " 'longer': 881,\n",
       " 'clear': 882,\n",
       " 'inside': 883,\n",
       " 'fat': 884,\n",
       " 'cb': 885,\n",
       " 'russia': 886,\n",
       " 'recent': 887,\n",
       " 'design': 888,\n",
       " 'thomas': 889,\n",
       " 'apr': 890,\n",
       " 'below': 891,\n",
       " 'imagine': 892,\n",
       " 'fit': 893,\n",
       " 'med': 894,\n",
       " 'designed': 895,\n",
       " 'necessary': 896,\n",
       " 'wasn': 897,\n",
       " 'city': 898,\n",
       " 'hey': 899,\n",
       " 'language': 900,\n",
       " 'close': 901,\n",
       " 'photography': 902,\n",
       " 'miles': 903,\n",
       " 'oil': 904,\n",
       " 'kids': 905,\n",
       " 'environment': 906,\n",
       " 'mentioned': 907,\n",
       " 'higher': 908,\n",
       " 'organization': 909,\n",
       " 'peter': 910,\n",
       " 'range': 911,\n",
       " 'plus': 912,\n",
       " 'reported': 913,\n",
       " 'poor': 914,\n",
       " 'male': 915,\n",
       " 'development': 916,\n",
       " 'output': 917,\n",
       " 'earth': 918,\n",
       " 'hours': 919,\n",
       " 'release': 920,\n",
       " 'happy': 921,\n",
       " 'server': 922,\n",
       " 'rest': 923,\n",
       " 'reasons': 924,\n",
       " 'social': 925,\n",
       " 'tool': 926,\n",
       " 'handle': 927,\n",
       " 'quicktime': 928,\n",
       " 'wife': 929,\n",
       " 'programming': 930,\n",
       " 'siggraph': 931,\n",
       " 'apply': 932,\n",
       " 'places': 933,\n",
       " 'trouble': 934,\n",
       " 'vs': 935,\n",
       " 'newsletter': 936,\n",
       " 'disclaimer': 937,\n",
       " 'save': 938,\n",
       " 'compression': 939,\n",
       " 'skin': 940,\n",
       " 'anonymous': 941,\n",
       " 'condition': 942,\n",
       " 'leave': 943,\n",
       " 'date': 944,\n",
       " 'comments': 945,\n",
       " 'dead': 946,\n",
       " 'foods': 947,\n",
       " 'companies': 948,\n",
       " 'author': 949,\n",
       " 'morning': 950,\n",
       " 'articles': 951,\n",
       " 'shareware': 952,\n",
       " 'types': 953,\n",
       " 'extra': 954,\n",
       " 'wish': 955,\n",
       " 'window': 956,\n",
       " 'sell': 957,\n",
       " 'complete': 958,\n",
       " 'jim': 959,\n",
       " 'provides': 960,\n",
       " 'rule': 961,\n",
       " 'pass': 962,\n",
       " 'age': 963,\n",
       " 'caused': 964,\n",
       " 'taxes': 965,\n",
       " 'hospital': 966,\n",
       " 'kidney': 967,\n",
       " 'board': 968,\n",
       " 'gets': 969,\n",
       " 'memory': 970,\n",
       " 'explain': 971,\n",
       " 'supports': 972,\n",
       " 'options': 973,\n",
       " 'college': 974,\n",
       " 'near': 975,\n",
       " 'break': 976,\n",
       " 'lost': 977,\n",
       " 'worth': 978,\n",
       " 'commercial': 979,\n",
       " 'cd': 980,\n",
       " 'tom': 981,\n",
       " 'ii': 982,\n",
       " 'requires': 983,\n",
       " 'yesterday': 984,\n",
       " 'developed': 985,\n",
       " 'official': 986,\n",
       " 'apparently': 987,\n",
       " 'add': 988,\n",
       " 'nor': 989,\n",
       " 'practice': 990,\n",
       " 'economic': 991,\n",
       " 'dept': 992,\n",
       " 'loss': 993,\n",
       " 'reference': 994,\n",
       " 'paper': 995,\n",
       " 'chance': 996,\n",
       " 'energy': 997,\n",
       " 'meeting': 998,\n",
       " 'safety': 999,\n",
       " 'outside': 1000,\n",
       " ...}"
      ]
     },
     "execution_count": 9,
     "metadata": {},
     "output_type": "execute_result"
    }
   ],
   "source": [
    "tokenizer = Tokenizer()\n",
    "tokenizer.fit_on_texts(all_cleaned_texts)\n",
    "\n",
    "tokenizer.word_index"
   ]
  },
  {
   "cell_type": "code",
   "execution_count": 10,
   "metadata": {
    "execution": {
     "iopub.execute_input": "2020-12-05T14:28:21.965035Z",
     "iopub.status.busy": "2020-12-05T14:28:21.964200Z",
     "iopub.status.idle": "2020-12-05T14:28:21.967792Z",
     "shell.execute_reply": "2020-12-05T14:28:21.968341Z"
    },
    "papermill": {
     "duration": 0.069793,
     "end_time": "2020-12-05T14:28:21.968469",
     "exception": false,
     "start_time": "2020-12-05T14:28:21.898676",
     "status": "completed"
    },
    "tags": []
   },
   "outputs": [
    {
     "data": {
      "text/plain": [
       "35511"
      ]
     },
     "execution_count": 10,
     "metadata": {},
     "output_type": "execute_result"
    }
   ],
   "source": [
    "# Angka ini nanti dipakai sebagai input shape dari layer embedding.\n",
    "len(tokenizer.word_index)"
   ]
  },
  {
   "cell_type": "code",
   "execution_count": 11,
   "metadata": {
    "execution": {
     "iopub.execute_input": "2020-12-05T14:28:22.128385Z",
     "iopub.status.busy": "2020-12-05T14:28:22.117949Z",
     "iopub.status.idle": "2020-12-05T14:28:23.177954Z",
     "shell.execute_reply": "2020-12-05T14:28:23.178433Z"
    },
    "papermill": {
     "duration": 1.147442,
     "end_time": "2020-12-05T14:28:23.178561",
     "exception": false,
     "start_time": "2020-12-05T14:28:22.031119",
     "status": "completed"
    },
    "tags": []
   },
   "outputs": [
    {
     "data": {
      "text/plain": [
       "[13,\n",
       " 29,\n",
       " 3157,\n",
       " 11,\n",
       " 23227,\n",
       " 550,\n",
       " 2,\n",
       " 3,\n",
       " 160,\n",
       " 4,\n",
       " 2458,\n",
       " 7,\n",
       " 7793,\n",
       " 233,\n",
       " 7794,\n",
       " 6,\n",
       " 3158,\n",
       " 3157,\n",
       " 5,\n",
       " 2300,\n",
       " 1266,\n",
       " 2,\n",
       " 136,\n",
       " 664,\n",
       " 5,\n",
       " 47,\n",
       " 3253,\n",
       " 3,\n",
       " 160,\n",
       " 4,\n",
       " 302,\n",
       " 2300,\n",
       " 293,\n",
       " 61,\n",
       " 8,\n",
       " 1046,\n",
       " 2,\n",
       " 1829,\n",
       " 3,\n",
       " 160,\n",
       " 4,\n",
       " 67,\n",
       " 4528,\n",
       " 2458,\n",
       " 4060,\n",
       " 21,\n",
       " 149,\n",
       " 1027,\n",
       " 8,\n",
       " 35,\n",
       " 3,\n",
       " 56,\n",
       " 887,\n",
       " 6827,\n",
       " 4,\n",
       " 2300,\n",
       " 48,\n",
       " 67,\n",
       " 698,\n",
       " 1587,\n",
       " 3824,\n",
       " 333,\n",
       " 183,\n",
       " 4,\n",
       " 17302,\n",
       " 393,\n",
       " 11033,\n",
       " 2115]"
      ]
     },
     "execution_count": 11,
     "metadata": {},
     "output_type": "execute_result"
    }
   ],
   "source": [
    "all_encoded_texts = tokenizer.texts_to_sequences(all_cleaned_texts)\n",
    "\n",
    "all_encoded_texts[0]"
   ]
  },
  {
   "cell_type": "code",
   "execution_count": 12,
   "metadata": {
    "execution": {
     "iopub.execute_input": "2020-12-05T14:28:23.311023Z",
     "iopub.status.busy": "2020-12-05T14:28:23.310433Z",
     "iopub.status.idle": "2020-12-05T14:28:23.320309Z",
     "shell.execute_reply": "2020-12-05T14:28:23.321113Z"
    },
    "papermill": {
     "duration": 0.080339,
     "end_time": "2020-12-05T14:28:23.321292",
     "exception": false,
     "start_time": "2020-12-05T14:28:23.240953",
     "status": "completed"
    },
    "tags": []
   },
   "outputs": [
    {
     "name": "stdout",
     "output_type": "stream",
     "text": [
      "4\n",
      "9624\n",
      "270.5661843515541\n"
     ]
    }
   ],
   "source": [
    "text_lengths = list()\n",
    "for i in range(len(all_encoded_texts)):\n",
    "    text_lengths.append(len(all_encoded_texts[i]))\n",
    "\n",
    "print(np.min(text_lengths))  # Terpendek\n",
    "print(np.max(text_lengths))  # Terpanjang\n",
    "print(np.mean(text_lengths)) # Panjang rata-rata"
   ]
  },
  {
   "cell_type": "markdown",
   "metadata": {
    "papermill": {
     "duration": 0.062515,
     "end_time": "2020-12-05T14:28:23.446423",
     "exception": false,
     "start_time": "2020-12-05T14:28:23.383908",
     "status": "completed"
    },
    "tags": []
   },
   "source": [
    "# Text preprocessing 3: Samain panjang text nya"
   ]
  },
  {
   "cell_type": "code",
   "execution_count": 13,
   "metadata": {
    "execution": {
     "iopub.execute_input": "2020-12-05T14:28:23.576934Z",
     "iopub.status.busy": "2020-12-05T14:28:23.576114Z",
     "iopub.status.idle": "2020-12-05T14:28:23.738499Z",
     "shell.execute_reply": "2020-12-05T14:28:23.737747Z"
    },
    "papermill": {
     "duration": 0.230394,
     "end_time": "2020-12-05T14:28:23.738641",
     "exception": false,
     "start_time": "2020-12-05T14:28:23.508247",
     "status": "completed"
    },
    "tags": []
   },
   "outputs": [
    {
     "data": {
      "text/plain": [
       "array([[    0,     0,     0, ...,   393, 11033,  2115],\n",
       "       [    0,     0,    13, ...,     2,    49,  7275],\n",
       "       [    0,     0,     0, ...,    16,   651,  1545],\n",
       "       ...,\n",
       "       [    0,     0,     0, ...,    32,  1409,    15],\n",
       "       [    0,     0,     0, ..., 35510,  2439,  2553],\n",
       "       [    0,     0,     0, ...,  1098,  5806,  7759]], dtype=int32)"
      ]
     },
     "execution_count": 13,
     "metadata": {},
     "output_type": "execute_result"
    }
   ],
   "source": [
    "all_encoded_texts = sequence.pad_sequences(all_encoded_texts, maxlen=270)\n",
    "all_encoded_texts"
   ]
  },
  {
   "cell_type": "markdown",
   "metadata": {
    "papermill": {
     "duration": 0.099536,
     "end_time": "2020-12-05T14:28:23.959243",
     "exception": false,
     "start_time": "2020-12-05T14:28:23.859707",
     "status": "completed"
    },
    "tags": []
   },
   "source": [
    "# Label preprocessing"
   ]
  },
  {
   "cell_type": "code",
   "execution_count": 14,
   "metadata": {
    "execution": {
     "iopub.execute_input": "2020-12-05T14:28:24.153392Z",
     "iopub.status.busy": "2020-12-05T14:28:24.152423Z",
     "iopub.status.idle": "2020-12-05T14:28:24.155029Z",
     "shell.execute_reply": "2020-12-05T14:28:24.155619Z"
    },
    "papermill": {
     "duration": 0.103743,
     "end_time": "2020-12-05T14:28:24.155783",
     "exception": false,
     "start_time": "2020-12-05T14:28:24.052040",
     "status": "completed"
    },
    "tags": []
   },
   "outputs": [],
   "source": [
    "labels_0 = np.array([0] * len(class_0))\n",
    "labels_1 = np.array([1] * len(class_1))\n",
    "labels_2 = np.array([2] * len(class_2))\n",
    "labels_3 = np.array([3] * len(class_3))"
   ]
  },
  {
   "cell_type": "code",
   "execution_count": 15,
   "metadata": {
    "execution": {
     "iopub.execute_input": "2020-12-05T14:28:24.364170Z",
     "iopub.status.busy": "2020-12-05T14:28:24.363382Z",
     "iopub.status.idle": "2020-12-05T14:28:24.370910Z",
     "shell.execute_reply": "2020-12-05T14:28:24.371469Z"
    },
    "papermill": {
     "duration": 0.119395,
     "end_time": "2020-12-05T14:28:24.371618",
     "exception": false,
     "start_time": "2020-12-05T14:28:24.252223",
     "status": "completed"
    },
    "tags": []
   },
   "outputs": [
    {
     "data": {
      "text/plain": [
       "(3732,)"
      ]
     },
     "execution_count": 15,
     "metadata": {},
     "output_type": "execute_result"
    }
   ],
   "source": [
    "all_labels = np.append(labels_0, labels_1)\n",
    "all_labels = np.append(all_labels, labels_2)\n",
    "all_labels = np.append(all_labels, labels_3)\n",
    "\n",
    "all_labels.shape"
   ]
  },
  {
   "cell_type": "markdown",
   "metadata": {
    "papermill": {
     "duration": 0.090639,
     "end_time": "2020-12-05T14:28:24.564907",
     "exception": false,
     "start_time": "2020-12-05T14:28:24.474268",
     "status": "completed"
    },
    "tags": []
   },
   "source": [
    "# Convert labelnya jadi one hot"
   ]
  },
  {
   "cell_type": "code",
   "execution_count": 16,
   "metadata": {
    "execution": {
     "iopub.execute_input": "2020-12-05T14:28:24.767255Z",
     "iopub.status.busy": "2020-12-05T14:28:24.766264Z",
     "iopub.status.idle": "2020-12-05T14:28:24.769818Z",
     "shell.execute_reply": "2020-12-05T14:28:24.767959Z"
    },
    "papermill": {
     "duration": 0.096712,
     "end_time": "2020-12-05T14:28:24.769941",
     "exception": false,
     "start_time": "2020-12-05T14:28:24.673229",
     "status": "completed"
    },
    "tags": []
   },
   "outputs": [
    {
     "data": {
      "text/plain": [
       "array([0, 0, 0, ..., 3, 3, 3])"
      ]
     },
     "execution_count": 16,
     "metadata": {},
     "output_type": "execute_result"
    }
   ],
   "source": [
    "all_labels"
   ]
  },
  {
   "cell_type": "code",
   "execution_count": 17,
   "metadata": {
    "execution": {
     "iopub.execute_input": "2020-12-05T14:28:24.961791Z",
     "iopub.status.busy": "2020-12-05T14:28:24.960992Z",
     "iopub.status.idle": "2020-12-05T14:28:24.968467Z",
     "shell.execute_reply": "2020-12-05T14:28:24.969450Z"
    },
    "papermill": {
     "duration": 0.112842,
     "end_time": "2020-12-05T14:28:24.969595",
     "exception": false,
     "start_time": "2020-12-05T14:28:24.856753",
     "status": "completed"
    },
    "tags": []
   },
   "outputs": [],
   "source": [
    "all_labels = all_labels[:, np.newaxis]\n",
    "one_hot_encoder = OneHotEncoder(sparse=False)\n",
    "all_labels = one_hot_encoder.fit_transform(all_labels)"
   ]
  },
  {
   "cell_type": "code",
   "execution_count": 18,
   "metadata": {
    "execution": {
     "iopub.execute_input": "2020-12-05T14:28:25.133628Z",
     "iopub.status.busy": "2020-12-05T14:28:25.132243Z",
     "iopub.status.idle": "2020-12-05T14:28:25.136458Z",
     "shell.execute_reply": "2020-12-05T14:28:25.135900Z"
    },
    "papermill": {
     "duration": 0.080032,
     "end_time": "2020-12-05T14:28:25.136565",
     "exception": false,
     "start_time": "2020-12-05T14:28:25.056533",
     "status": "completed"
    },
    "tags": []
   },
   "outputs": [
    {
     "data": {
      "text/plain": [
       "array([[1., 0., 0., 0.],\n",
       "       [1., 0., 0., 0.],\n",
       "       [1., 0., 0., 0.],\n",
       "       ...,\n",
       "       [0., 0., 0., 1.],\n",
       "       [0., 0., 0., 1.],\n",
       "       [0., 0., 0., 1.]])"
      ]
     },
     "execution_count": 18,
     "metadata": {},
     "output_type": "execute_result"
    }
   ],
   "source": [
    "all_labels"
   ]
  },
  {
   "cell_type": "markdown",
   "metadata": {
    "papermill": {
     "duration": 0.0683,
     "end_time": "2020-12-05T14:28:25.273287",
     "exception": false,
     "start_time": "2020-12-05T14:28:25.204987",
     "status": "completed"
    },
    "tags": []
   },
   "source": [
    "# Train test split"
   ]
  },
  {
   "cell_type": "code",
   "execution_count": 19,
   "metadata": {
    "execution": {
     "iopub.execute_input": "2020-12-05T14:28:25.420349Z",
     "iopub.status.busy": "2020-12-05T14:28:25.418990Z",
     "iopub.status.idle": "2020-12-05T14:28:25.427398Z",
     "shell.execute_reply": "2020-12-05T14:28:25.428136Z"
    },
    "papermill": {
     "duration": 0.084758,
     "end_time": "2020-12-05T14:28:25.428299",
     "exception": false,
     "start_time": "2020-12-05T14:28:25.343541",
     "status": "completed"
    },
    "tags": []
   },
   "outputs": [
    {
     "name": "stdout",
     "output_type": "stream",
     "text": [
      "Shape X_train\t: (2985, 270)\n",
      "Shape X_test\t: (747, 270)\n",
      "\n",
      "Shape y_train\t: (2985, 4)\n",
      "Shape y_test\t: (747, 4)\n"
     ]
    }
   ],
   "source": [
    "X_train, X_test, y_train, y_test = train_test_split(all_encoded_texts, \n",
    "                                                    all_labels, \n",
    "                                                    test_size=0.2, \n",
    "                                                    random_state=11)\n",
    "\n",
    "print('Shape X_train\\t:', X_train.shape)\n",
    "print('Shape X_test\\t:', X_test.shape)\n",
    "print()\n",
    "print('Shape y_train\\t:', y_train.shape)\n",
    "print('Shape y_test\\t:', y_test.shape)"
   ]
  },
  {
   "cell_type": "markdown",
   "metadata": {
    "papermill": {
     "duration": 0.068411,
     "end_time": "2020-12-05T14:28:25.566364",
     "exception": false,
     "start_time": "2020-12-05T14:28:25.497953",
     "status": "completed"
    },
    "tags": []
   },
   "source": [
    "# Buat LSTM-based model nya"
   ]
  },
  {
   "cell_type": "code",
   "execution_count": 20,
   "metadata": {
    "execution": {
     "iopub.execute_input": "2020-12-05T14:28:25.709317Z",
     "iopub.status.busy": "2020-12-05T14:28:25.708620Z",
     "iopub.status.idle": "2020-12-05T14:28:25.712600Z",
     "shell.execute_reply": "2020-12-05T14:28:25.712005Z"
    },
    "papermill": {
     "duration": 0.076537,
     "end_time": "2020-12-05T14:28:25.712698",
     "exception": false,
     "start_time": "2020-12-05T14:28:25.636161",
     "status": "completed"
    },
    "tags": []
   },
   "outputs": [],
   "source": [
    "tf.random.set_seed(99)"
   ]
  },
  {
   "cell_type": "code",
   "execution_count": 21,
   "metadata": {
    "execution": {
     "iopub.execute_input": "2020-12-05T14:28:25.856267Z",
     "iopub.status.busy": "2020-12-05T14:28:25.855342Z",
     "iopub.status.idle": "2020-12-05T14:28:29.335592Z",
     "shell.execute_reply": "2020-12-05T14:28:29.334237Z"
    },
    "papermill": {
     "duration": 3.554894,
     "end_time": "2020-12-05T14:28:29.335730",
     "exception": false,
     "start_time": "2020-12-05T14:28:25.780836",
     "status": "completed"
    },
    "tags": []
   },
   "outputs": [],
   "source": [
    "model = Sequential()\n",
    "model.add(Embedding(input_dim=35512, output_dim=32, input_length=270))\n",
    "model.add(Dropout(0.3))\n",
    "model.add(LSTM(200))\n",
    "model.add(Dropout(0.3))\n",
    "model.add(Dense(4, activation='softmax'))"
   ]
  },
  {
   "cell_type": "code",
   "execution_count": 22,
   "metadata": {
    "execution": {
     "iopub.execute_input": "2020-12-05T14:28:29.472903Z",
     "iopub.status.busy": "2020-12-05T14:28:29.469051Z",
     "iopub.status.idle": "2020-12-05T14:28:29.480310Z",
     "shell.execute_reply": "2020-12-05T14:28:29.479561Z"
    },
    "papermill": {
     "duration": 0.080576,
     "end_time": "2020-12-05T14:28:29.480458",
     "exception": false,
     "start_time": "2020-12-05T14:28:29.399882",
     "status": "completed"
    },
    "tags": []
   },
   "outputs": [
    {
     "name": "stdout",
     "output_type": "stream",
     "text": [
      "Model: \"sequential\"\n",
      "_________________________________________________________________\n",
      "Layer (type)                 Output Shape              Param #   \n",
      "=================================================================\n",
      "embedding (Embedding)        (None, 270, 32)           1136384   \n",
      "_________________________________________________________________\n",
      "dropout (Dropout)            (None, 270, 32)           0         \n",
      "_________________________________________________________________\n",
      "lstm (LSTM)                  (None, 200)               186400    \n",
      "_________________________________________________________________\n",
      "dropout_1 (Dropout)          (None, 200)               0         \n",
      "_________________________________________________________________\n",
      "dense (Dense)                (None, 4)                 804       \n",
      "=================================================================\n",
      "Total params: 1,323,588\n",
      "Trainable params: 1,323,588\n",
      "Non-trainable params: 0\n",
      "_________________________________________________________________\n"
     ]
    }
   ],
   "source": [
    "model.summary()"
   ]
  },
  {
   "cell_type": "code",
   "execution_count": 23,
   "metadata": {
    "execution": {
     "iopub.execute_input": "2020-12-05T14:28:29.621818Z",
     "iopub.status.busy": "2020-12-05T14:28:29.620950Z",
     "iopub.status.idle": "2020-12-05T14:28:29.628096Z",
     "shell.execute_reply": "2020-12-05T14:28:29.627514Z"
    },
    "papermill": {
     "duration": 0.08289,
     "end_time": "2020-12-05T14:28:29.628192",
     "exception": false,
     "start_time": "2020-12-05T14:28:29.545302",
     "status": "completed"
    },
    "tags": []
   },
   "outputs": [],
   "source": [
    "model.compile(loss='categorical_crossentropy', \n",
    "              optimizer='adam', \n",
    "              metrics=['accuracy'])"
   ]
  },
  {
   "cell_type": "code",
   "execution_count": 24,
   "metadata": {
    "execution": {
     "iopub.execute_input": "2020-12-05T14:28:29.762145Z",
     "iopub.status.busy": "2020-12-05T14:28:29.761559Z",
     "iopub.status.idle": "2020-12-05T14:28:42.830644Z",
     "shell.execute_reply": "2020-12-05T14:28:42.830075Z"
    },
    "papermill": {
     "duration": 13.138133,
     "end_time": "2020-12-05T14:28:42.830808",
     "exception": false,
     "start_time": "2020-12-05T14:28:29.692675",
     "status": "completed"
    },
    "tags": []
   },
   "outputs": [
    {
     "name": "stdout",
     "output_type": "stream",
     "text": [
      "Epoch 1/5\n",
      "47/47 [==============================] - 2s 49ms/step - loss: 1.6104 - accuracy: 0.3186 - val_loss: 1.3073 - val_accuracy: 0.4552\n",
      "Epoch 2/5\n",
      "47/47 [==============================] - 2s 33ms/step - loss: 1.2513 - accuracy: 0.5645 - val_loss: 1.2250 - val_accuracy: 0.4110\n",
      "Epoch 3/5\n",
      "47/47 [==============================] - 2s 33ms/step - loss: 1.0110 - accuracy: 0.6533 - val_loss: 1.1306 - val_accuracy: 0.4900\n",
      "Epoch 4/5\n",
      "47/47 [==============================] - 2s 33ms/step - loss: 0.8204 - accuracy: 0.7112 - val_loss: 0.7516 - val_accuracy: 0.7523\n",
      "Epoch 5/5\n",
      "47/47 [==============================] - 2s 33ms/step - loss: 0.4142 - accuracy: 0.8918 - val_loss: 0.5374 - val_accuracy: 0.8260\n"
     ]
    }
   ],
   "source": [
    "history = model.fit(X_train, y_train, \n",
    "                    epochs=5, batch_size=64, \n",
    "                    validation_data=(X_test, y_test))"
   ]
  },
  {
   "cell_type": "code",
   "execution_count": 25,
   "metadata": {
    "execution": {
     "iopub.execute_input": "2020-12-05T14:28:43.055537Z",
     "iopub.status.busy": "2020-12-05T14:28:43.054731Z",
     "iopub.status.idle": "2020-12-05T14:28:43.410520Z",
     "shell.execute_reply": "2020-12-05T14:28:43.411040Z"
    },
    "papermill": {
     "duration": 0.470985,
     "end_time": "2020-12-05T14:28:43.411196",
     "exception": false,
     "start_time": "2020-12-05T14:28:42.940211",
     "status": "completed"
    },
    "tags": []
   },
   "outputs": [
    {
     "data": {
      "image/png": "[encoded data removed]",
      "text/plain": [
       "<Figure size 504x360 with 1 Axes>"
      ]
     },
     "metadata": {},
     "output_type": "display_data"
    }
   ],
   "source": [
    "plt.figure(figsize=(7,5))\n",
    "plt.title('Loss')\n",
    "plt.xlabel('Epoch')\n",
    "plt.ylabel('Loss value')\n",
    "plt.plot(history.history['loss'])\n",
    "plt.plot(history.history['val_loss'])\n",
    "plt.legend(['loss', 'val_loss'])\n",
    "plt.show()"
   ]
  },
  {
   "cell_type": "code",
   "execution_count": 26,
   "metadata": {
    "execution": {
     "iopub.execute_input": "2020-12-05T14:28:43.649076Z",
     "iopub.status.busy": "2020-12-05T14:28:43.647944Z",
     "iopub.status.idle": "2020-12-05T14:28:43.956005Z",
     "shell.execute_reply": "2020-12-05T14:28:43.956484Z"
    },
    "papermill": {
     "duration": 0.430256,
     "end_time": "2020-12-05T14:28:43.956615",
     "exception": false,
     "start_time": "2020-12-05T14:28:43.526359",
     "status": "completed"
    },
    "tags": []
   },
   "outputs": [
    {
     "data": {
      "image/png": "[encoded data removed]",
      "text/plain": [
       "<Figure size 504x360 with 1 Axes>"
      ]
     },
     "metadata": {},
     "output_type": "display_data"
    }
   ],
   "source": [
    "plt.figure(figsize=(7,5))\n",
    "plt.title('Accuracy')\n",
    "plt.xlabel('Epoch')\n",
    "plt.ylabel('Accuracy score')\n",
    "plt.plot(history.history['accuracy'])\n",
    "plt.plot(history.history['val_accuracy'])\n",
    "plt.legend(['accuracy', 'val_accuracy'])\n",
    "plt.show()"
   ]
  },
  {
   "cell_type": "markdown",
   "metadata": {
    "papermill": {
     "duration": 0.112818,
     "end_time": "2020-12-05T14:28:44.183493",
     "exception": false,
     "start_time": "2020-12-05T14:28:44.070675",
     "status": "completed"
    },
    "tags": []
   },
   "source": [
    "# Testing"
   ]
  },
  {
   "cell_type": "code",
   "execution_count": 27,
   "metadata": {
    "execution": {
     "iopub.execute_input": "2020-12-05T14:28:44.415692Z",
     "iopub.status.busy": "2020-12-05T14:28:44.413940Z",
     "iopub.status.idle": "2020-12-05T14:28:44.423900Z",
     "shell.execute_reply": "2020-12-05T14:28:44.425101Z"
    },
    "papermill": {
     "duration": 0.132337,
     "end_time": "2020-12-05T14:28:44.425347",
     "exception": false,
     "start_time": "2020-12-05T14:28:44.293010",
     "status": "completed"
    },
    "tags": []
   },
   "outputs": [],
   "source": [
    "def preprocess_text(text):\n",
    "    text = clean(text)\n",
    "    encoded_text = tokenizer.texts_to_sequences([text])\n",
    "    same_length_text = sequence.pad_sequences(encoded_text, maxlen=270)\n",
    "    return same_length_text"
   ]
  },
  {
   "cell_type": "code",
   "execution_count": 28,
   "metadata": {
    "execution": {
     "iopub.execute_input": "2020-12-05T14:28:44.663587Z",
     "iopub.status.busy": "2020-12-05T14:28:44.662652Z",
     "iopub.status.idle": "2020-12-05T14:28:45.031449Z",
     "shell.execute_reply": "2020-12-05T14:28:45.030949Z"
    },
    "papermill": {
     "duration": 0.488148,
     "end_time": "2020-12-05T14:28:45.031556",
     "exception": false,
     "start_time": "2020-12-05T14:28:44.543408",
     "status": "completed"
    },
    "tags": []
   },
   "outputs": [
    {
     "data": {
      "text/plain": [
       "array([[0.06488224, 0.0614203 , 0.37866637, 0.49503106]], dtype=float32)"
      ]
     },
     "execution_count": 28,
     "metadata": {},
     "output_type": "execute_result"
    }
   ],
   "source": [
    "#https://www.usnews.com/news/politics/articles/2020-12-01/trump-teases-2024-run-at-white-house-christmas-party\n",
    "model.predict(preprocess_text('the video of Trump\\'s appearance Tuesday was streamed live on Facebook by one attendee, Pam Pollard, who is national committeewoman for the Oklahoma GOP. It showed dozens of people crammed into the broad Cross Hall of the White House state floor, standing closely together. Many seen in the video were not wearing masks.\\\n",
    "The Trumps began hosting holiday receptions this week, intent on celebrating a final season before Trump leaves office on Jan. 20. According to social media postings reviewed by The Associated Press, the events have featured large crowds of often maskless attendees gathered indoors — violating the very public health guidance the U.S. government has pressed the nation to follow this holiday season as cases of COVID-19 skyrocket across the country.\\\n",
    "White House press secretary Kayleigh McEnany on Wednesday defended the Trumps\\' decision to host the parties. She noted that the guest lists are smaller than past years, hand sanitizer is made available to guests and social distancing is encouraged.\\\n",
    "“So you know if you can loot businesses, burn down buildings, engage in protest, you can also go to a Christmas party,” said McEnany, who noted that Trumps also plan to host Hanukkah celebrations.\\\n",
    "In the video, Trump is heard continuing to air baseless allegations of election fraud to explain his defeat by President-elect Joe Biden despite his attorney general, William Barr, telling the AP earlier Tuesday that the Justice Department had not uncovered evidence of widespread voter fraud and had seen nothing that would change the outcome of the 2020 presidential election. Coughing can be heard from the audience as Trump addressed the gathering.'))"
   ]
  },
  {
   "cell_type": "code",
   "execution_count": 29,
   "metadata": {
    "execution": {
     "iopub.execute_input": "2020-12-05T14:28:45.264412Z",
     "iopub.status.busy": "2020-12-05T14:28:45.263545Z",
     "iopub.status.idle": "2020-12-05T14:28:45.305832Z",
     "shell.execute_reply": "2020-12-05T14:28:45.306833Z"
    },
    "papermill": {
     "duration": 0.160051,
     "end_time": "2020-12-05T14:28:45.306962",
     "exception": false,
     "start_time": "2020-12-05T14:28:45.146911",
     "status": "completed"
    },
    "tags": []
   },
   "outputs": [
    {
     "data": {
      "text/plain": [
       "array([[0.57531375, 0.20326519, 0.09715517, 0.12426592]], dtype=float32)"
      ]
     },
     "execution_count": 29,
     "metadata": {},
     "output_type": "execute_result"
    }
   ],
   "source": [
    "#https://en.wikipedia.org/wiki/Computer_graphics_(computer_science)#:~:text=Computer%20graphics%20is%20a%20sub,dimensional%20graphics%20and%20image%20processing.\n",
    "model.predict(preprocess_text('Computer graphics studies the manipulation of visual and geometric information using computational techniques. It focuses on the mathematical and computational foundations of image generation and processing rather than purely aesthetic issues. Computer graphics is often differentiated from the field of visualization, although the two fields have many similarities.'))"
   ]
  }
 ],
 "metadata": {
  "kernelspec": {
   "display_name": "Python 3",
   "language": "python",
   "name": "python3"
  },
  "language_info": {
   "codemirror_mode": {
    "name": "ipython",
    "version": 3
   },
   "file_extension": ".py",
   "mimetype": "text/x-python",
   "name": "python",
   "nbconvert_exporter": "python",
   "pygments_lexer": "ipython3",
   "version": "3.7.6"
  },
  "papermill": {
   "duration": 76.890548,
   "end_time": "2020-12-05T14:28:47.260146",
   "environment_variables": {},
   "exception": null,
   "input_path": "__notebook__.ipynb",
   "output_path": "__notebook__.ipynb",
   "parameters": {},
   "start_time": "2020-12-05T14:27:30.369598",
   "version": "2.1.0"
  }
 },
 "nbformat": 4,
 "nbformat_minor": 4
}

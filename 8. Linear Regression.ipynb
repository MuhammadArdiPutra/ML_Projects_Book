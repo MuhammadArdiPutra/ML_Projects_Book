{
 "cells": [
  {
   "cell_type": "code",
   "execution_count": 1,
   "metadata": {
    "_cell_guid": "b1076dfc-b9ad-4769-8c92-a6c4dae69d19",
    "_uuid": "8f2839f25d086af736a60e9eeb907d3b93b6e0e5"
   },
   "outputs": [],
   "source": [
    "import numpy as np\n",
    "import pandas as pd\n",
    "import matplotlib.pyplot as plt"
   ]
  },
  {
   "cell_type": "markdown",
   "metadata": {},
   "source": [
    "# Import dataset"
   ]
  },
  {
   "cell_type": "code",
   "execution_count": 2,
   "metadata": {
    "_cell_guid": "79c7e3d0-c299-4dcb-8224-4455121ee9b0",
    "_uuid": "d629ff2d2480ee46fbb7e2d37f6b5fab8052498a"
   },
   "outputs": [
    {
     "name": "stdout",
     "output_type": "stream",
     "text": [
      "(25, 2)\n"
     ]
    },
    {
     "data": {
      "text/html": [
       "<div>\n",
       "<style scoped>\n",
       "    .dataframe tbody tr th:only-of-type {\n",
       "        vertical-align: middle;\n",
       "    }\n",
       "\n",
       "    .dataframe tbody tr th {\n",
       "        vertical-align: top;\n",
       "    }\n",
       "\n",
       "    .dataframe thead th {\n",
       "        text-align: right;\n",
       "    }\n",
       "</style>\n",
       "<table border=\"1\" class=\"dataframe\">\n",
       "  <thead>\n",
       "    <tr style=\"text-align: right;\">\n",
       "      <th></th>\n",
       "      <th>Hours</th>\n",
       "      <th>Scores</th>\n",
       "    </tr>\n",
       "  </thead>\n",
       "  <tbody>\n",
       "    <tr>\n",
       "      <th>0</th>\n",
       "      <td>2.5</td>\n",
       "      <td>21</td>\n",
       "    </tr>\n",
       "    <tr>\n",
       "      <th>1</th>\n",
       "      <td>5.1</td>\n",
       "      <td>47</td>\n",
       "    </tr>\n",
       "    <tr>\n",
       "      <th>2</th>\n",
       "      <td>3.2</td>\n",
       "      <td>27</td>\n",
       "    </tr>\n",
       "    <tr>\n",
       "      <th>3</th>\n",
       "      <td>8.5</td>\n",
       "      <td>75</td>\n",
       "    </tr>\n",
       "    <tr>\n",
       "      <th>4</th>\n",
       "      <td>3.5</td>\n",
       "      <td>30</td>\n",
       "    </tr>\n",
       "  </tbody>\n",
       "</table>\n",
       "</div>"
      ],
      "text/plain": [
       "   Hours  Scores\n",
       "0    2.5      21\n",
       "1    5.1      47\n",
       "2    3.2      27\n",
       "3    8.5      75\n",
       "4    3.5      30"
      ]
     },
     "execution_count": 2,
     "metadata": {},
     "output_type": "execute_result"
    }
   ],
   "source": [
    "df = pd.read_csv('../input/student-scores/student_scores.csv')\n",
    "print(df.shape)\n",
    "df.head()"
   ]
  },
  {
   "cell_type": "code",
   "execution_count": 3,
   "metadata": {},
   "outputs": [],
   "source": [
    "# 20 data pertama jadi train, sisanya jadi test\n",
    "x_train = df['Hours'].values[:20]\n",
    "y_train = df['Scores'].values[:20]\n",
    "\n",
    "x_test = df['Hours'].values[20:]\n",
    "y_test = df['Scores'].values[20:]"
   ]
  },
  {
   "cell_type": "markdown",
   "metadata": {},
   "source": [
    "# Sebaran datapoints"
   ]
  },
  {
   "cell_type": "code",
   "execution_count": 4,
   "metadata": {},
   "outputs": [
    {
     "data": {
      "image/png": "[encoded data removed]",
      "text/plain": [
       "<Figure size 432x288 with 1 Axes>"
      ]
     },
     "metadata": {
      "needs_background": "light"
     },
     "output_type": "display_data"
    }
   ],
   "source": [
    "plt.title('Distribusi data train dan test')\n",
    "plt.scatter(x_train, y_train, c='b', s=36)\n",
    "plt.scatter(x_test, y_test, c='g', s=14)\n",
    "plt.xlabel('Hours (belajar berapa jam)')\n",
    "plt.ylabel('Score (nilai ujian)')\n",
    "plt.show()"
   ]
  },
  {
   "cell_type": "markdown",
   "metadata": {},
   "source": [
    "# Statistical approach"
   ]
  },
  {
   "cell_type": "markdown",
   "metadata": {},
   "source": [
    "### Fungsi untuk ngitung value b0 dan b1"
   ]
  },
  {
   "cell_type": "code",
   "execution_count": 5,
   "metadata": {},
   "outputs": [],
   "source": [
    "def calculate_variables(x, y):\n",
    "    # x_bar dan y_bar\n",
    "    x_mean, y_mean = np.mean(x), np.mean(y)\n",
    "    \n",
    "    b1_numerator = sum([(x_i-x_mean)*(y_i-y_mean) for x_i, y_i in zip(x,y)])\n",
    "    b1_denominator = sum([(x_i-x_mean)**2 for x_i in x])\n",
    "    \n",
    "    # b1 ini ntar jadi gradien\n",
    "    b1 = b1_numerator/b1_denominator\n",
    "    \n",
    "    b0 = y_mean - b1 * x_mean\n",
    "    \n",
    "    return np.array([b0, b1])"
   ]
  },
  {
   "cell_type": "code",
   "execution_count": 6,
   "metadata": {},
   "outputs": [
    {
     "name": "stdout",
     "output_type": "stream",
     "text": [
      "b0 : 3.031283038605764\n",
      "b1 : 9.520386094943449\n"
     ]
    }
   ],
   "source": [
    "b0, b1 = calculate_variables(x_train, y_train)\n",
    "print('b0 :', b0)\n",
    "print('b1 :', b1)"
   ]
  },
  {
   "cell_type": "markdown",
   "metadata": {},
   "source": [
    "### Garis linear regression yang dibuat berdasarkan data train (yang biru)"
   ]
  },
  {
   "cell_type": "code",
   "execution_count": 7,
   "metadata": {},
   "outputs": [
    {
     "data": {
      "image/png": "[encoded data removed]",
      "text/plain": [
       "<Figure size 432x288 with 1 Axes>"
      ]
     },
     "metadata": {
      "needs_background": "light"
     },
     "output_type": "display_data"
    }
   ],
   "source": [
    "plt.scatter(x_train, y_train, c='b', s=36)\n",
    "plt.scatter(x_test, y_test, c='g', s=14)\n",
    "\n",
    "x_line = np.linspace(0, 10, 100)\n",
    "y_line = b0 + b1*x_line\n",
    "plt.plot(x_line, y_line, c='r')\n",
    "\n",
    "plt.title('Garis regresi yang dibuat berdasarkan data train')\n",
    "plt.xlabel('Hours (belajar berapa jam)')\n",
    "plt.ylabel('Score (nilai ujian)')\n",
    "plt.show()"
   ]
  },
  {
   "cell_type": "markdown",
   "metadata": {},
   "source": [
    "### Fungsi untuk memprediksi titik data test berdasarkan garis linear regression"
   ]
  },
  {
   "cell_type": "code",
   "execution_count": 8,
   "metadata": {},
   "outputs": [],
   "source": [
    "# variables adalah array yang isinya [b0, b1]\n",
    "def predict(data, variables):\n",
    "    predictions = [variables[0] + variables[1]*x_i for x_i in data]\n",
    "    return predictions"
   ]
  },
  {
   "cell_type": "code",
   "execution_count": 9,
   "metadata": {},
   "outputs": [
    {
     "name": "stdout",
     "output_type": "stream",
     "text": [
      "Jam belajar\t: [2.7 4.8 3.8 6.9 7.8]\n",
      "Prediksi nilai\t: [28.7 48.7 39.2 68.7 77.3]\n"
     ]
    }
   ],
   "source": [
    "test_preds = predict(x_test, [b0, b1])\n",
    "test_preds = np.round(test_preds, 1)\n",
    "\n",
    "print('Jam belajar\\t:', x_test)\n",
    "print('Prediksi nilai\\t:', test_preds)"
   ]
  },
  {
   "cell_type": "markdown",
   "metadata": {},
   "source": [
    "### Fungsi untuk menghitung MSE"
   ]
  },
  {
   "cell_type": "code",
   "execution_count": 12,
   "metadata": {},
   "outputs": [],
   "source": [
    "def mse(actual, predicted):\n",
    "    error = sum([(act_i-pred_i)**2 for act_i, pred_i in zip(actual,predicted)])/len(actual)\n",
    "    return error"
   ]
  },
  {
   "cell_type": "markdown",
   "metadata": {},
   "source": [
    "### Memprediksi data train biar tau error terhadap data trainnya"
   ]
  },
  {
   "cell_type": "code",
   "execution_count": 13,
   "metadata": {},
   "outputs": [
    {
     "data": {
      "text/plain": [
       "array([26.8, 51.6, 33.5, 84. , 36.4, 17.3, 90.6, 55.4, 82.1, 28.7, 76.3,\n",
       "       59.2, 45.9, 34.4, 13.5, 87.8, 26.8, 21.1, 61.1, 73.5])"
      ]
     },
     "execution_count": 13,
     "metadata": {},
     "output_type": "execute_result"
    }
   ],
   "source": [
    "train_preds = predict(x_train, [b0, b1])\n",
    "train_preds = np.round(train_preds, 1)\n",
    "train_preds"
   ]
  },
  {
   "cell_type": "code",
   "execution_count": 14,
   "metadata": {},
   "outputs": [
    {
     "name": "stdout",
     "output_type": "stream",
     "text": [
      "Train error\t:  28.610999999999997\n",
      "Test error\t:  35.28\n"
     ]
    }
   ],
   "source": [
    "print('Train error\\t: ', mse(y_train, train_preds))\n",
    "print('Test error\\t: ', mse(y_test, test_preds))"
   ]
  },
  {
   "cell_type": "markdown",
   "metadata": {},
   "source": [
    "# Machine learning approach"
   ]
  },
  {
   "cell_type": "code",
   "execution_count": 16,
   "metadata": {},
   "outputs": [
    {
     "name": "stdout",
     "output_type": "stream",
     "text": [
      "b0 : -5.029797451245401\n",
      "b1 : -1.0004915789840911\n"
     ]
    }
   ],
   "source": [
    "np.random.seed(33)\n",
    "b0 = np.random.uniform(low=-10, high=10)\n",
    "b1 = np.random.uniform(low=-10, high=10)\n",
    "print('b0 :', b0)\n",
    "print('b1 :', b1)"
   ]
  },
  {
   "cell_type": "code",
   "execution_count": 17,
   "metadata": {},
   "outputs": [
    {
     "data": {
      "image/png": "[encoded data removed]",
      "text/plain": [
       "<Figure size 576x432 with 1 Axes>"
      ]
     },
     "metadata": {
      "needs_background": "light"
     },
     "output_type": "display_data"
    }
   ],
   "source": [
    "x_line = np.linspace(0,10,100)\n",
    "y_line = b0 + b1*x_line\n",
    "\n",
    "plt.figure(figsize=(8,6))\n",
    "plt.title('Data distribution')\n",
    "plt.scatter(x_train, y_train, c='b', s=36)\n",
    "plt.scatter(x_test, y_test, c='g', s=14)\n",
    "plt.plot(x_line,y_line, c='r')\n",
    "plt.xlabel('hours')\n",
    "plt.ylabel('score')\n",
    "plt.show()"
   ]
  },
  {
   "cell_type": "code",
   "execution_count": 18,
   "metadata": {},
   "outputs": [],
   "source": [
    "L = 0.001\n",
    "epochs = 100"
   ]
  },
  {
   "cell_type": "code",
   "execution_count": 19,
   "metadata": {},
   "outputs": [],
   "source": [
    "# Jumlah sampel di dataset\n",
    "n = np.float(x_train.shape[0])\n",
    "\n",
    "# Buat list kosong untuk menyimpan loss value\n",
    "# pada tiap epochnya\n",
    "losses = []\n",
    "for i in range(epochs):\n",
    "    yhat_train = b0 + b1*x_train\n",
    "    \n",
    "    # Masukin loss value ke list\n",
    "    error = mse(y_train, yhat_train)\n",
    "    losses.append(error)\n",
    "    \n",
    "    # Turunan\n",
    "    d_b0 = (-2/n) * np.sum(y_train - yhat_train)\n",
    "    d_b1 = (-2/n) * np.sum(x_train * (y_train - yhat_train))\n",
    "    \n",
    "    # Update value\n",
    "    b0 = b0 - L*d_b0\n",
    "    b1 = b1 - L*d_b1"
   ]
  },
  {
   "cell_type": "code",
   "execution_count": 20,
   "metadata": {},
   "outputs": [
    {
     "name": "stdout",
     "output_type": "stream",
     "text": [
      "New b0: -2.943493207815612\n",
      "New b1: 10.456522322385808\n"
     ]
    }
   ],
   "source": [
    "print('New b0:', b0)\n",
    "print('New b1:', b1)"
   ]
  },
  {
   "cell_type": "code",
   "execution_count": 21,
   "metadata": {},
   "outputs": [
    {
     "data": {
      "image/png": "[encoded data removed]",
      "text/plain": [
       "<Figure size 432x288 with 1 Axes>"
      ]
     },
     "metadata": {
      "needs_background": "light"
     },
     "output_type": "display_data"
    }
   ],
   "source": [
    "x_line = np.linspace(0,10,100)\n",
    "y_line = b0 + b1*x_line\n",
    "\n",
    "plt.title('Data distribution')\n",
    "plt.plot(x_line, y_line, c='r')\n",
    "plt.scatter(x_train, y_train, c='b', s=36)\n",
    "plt.scatter(x_test, y_test, c='g', s=14)\n",
    "plt.xlabel('hours')\n",
    "plt.ylabel('score')\n",
    "plt.show()"
   ]
  },
  {
   "cell_type": "code",
   "execution_count": 22,
   "metadata": {},
   "outputs": [
    {
     "name": "stdout",
     "output_type": "stream",
     "text": [
      "Initial train loss\t: 4410.196909727855\n",
      "Final train loss\t: 36.151252267746926\n"
     ]
    },
    {
     "data": {
      "image/png": "[encoded data removed]",
      "text/plain": [
       "<Figure size 432x288 with 1 Axes>"
      ]
     },
     "metadata": {
      "needs_background": "light"
     },
     "output_type": "display_data"
    }
   ],
   "source": [
    "plt.title('Loss value')\n",
    "plt.plot(losses)\n",
    "plt.ylabel('loss')\n",
    "plt.xlabel('epoch')\n",
    "print('Initial train loss\\t:', losses[0])\n",
    "print('Final train loss\\t:', losses[-1])"
   ]
  },
  {
   "cell_type": "code",
   "execution_count": 23,
   "metadata": {},
   "outputs": [
    {
     "name": "stdout",
     "output_type": "stream",
     "text": [
      "Test error\t:  34.513999999999996\n"
     ]
    }
   ],
   "source": [
    "test_preds = predict(x_test, [b0, b1])\n",
    "test_preds = np.round(test_preds, 1)\n",
    "print('Test error\\t: ', mse(y_test, test_preds))"
   ]
  }
 ],
 "metadata": {
  "kernelspec": {
   "display_name": "Python 3",
   "language": "python",
   "name": "python3"
  },
  "language_info": {
   "codemirror_mode": {
    "name": "ipython",
    "version": 3
   },
   "file_extension": ".py",
   "mimetype": "text/x-python",
   "name": "python",
   "nbconvert_exporter": "python",
   "pygments_lexer": "ipython3",
   "version": "3.7.3"
  }
 },
 "nbformat": 4,
 "nbformat_minor": 4
}
